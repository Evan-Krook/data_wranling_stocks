{
 "cells": [
  {
   "cell_type": "code",
   "execution_count": 59,
   "id": "7857ebc7-f06b-4bb7-90cc-2189370ce1d5",
   "metadata": {},
   "outputs": [],
   "source": [
    "import stock_data_package.stock_data as sd\n",
    "import importlib"
   ]
  },
  {
   "cell_type": "code",
   "execution_count": 60,
   "id": "296dfb9a-886e-4f7a-9abc-3b03c88ccecf",
   "metadata": {},
   "outputs": [
    {
     "data": {
      "text/plain": [
       "<module 'stock_data_package.stock_data' from 'C:\\\\Users\\\\ekroo\\\\OneDrive - UWM\\\\Desktop\\\\data_wrangling_python_project\\\\stock_data_package\\\\stock_data.py'>"
      ]
     },
     "execution_count": 60,
     "metadata": {},
     "output_type": "execute_result"
    }
   ],
   "source": [
    "importlib.reload(sd)"
   ]
  },
  {
   "cell_type": "markdown",
   "id": "94d0371f-f49e-487d-afdb-2dea697bf9d6",
   "metadata": {},
   "source": [
    "**Function:** sd.get_data(symbol, filename)"
   ]
  },
  {
   "cell_type": "markdown",
   "id": "1284efcc-904c-4697-8ab1-34f16265b64f",
   "metadata": {},
   "source": [
    "**Symbol must be a string of a stock ticker Ex: 'TSLA'**\n",
    "\n",
    "**Filename must be a .csv file Ex: 'stocks.csv'**"
   ]
  },
  {
   "cell_type": "code",
   "execution_count": 61,
   "id": "4736cdea-ae41-48e0-99fc-b71bd26621d2",
   "metadata": {},
   "outputs": [],
   "source": [
    "df = sd.get_data(['TSLA','AAPL','TWLO'], 'stock_test.csv')"
   ]
  },
  {
   "cell_type": "code",
   "execution_count": 62,
   "id": "2aeb0757-3764-4c00-8c4f-74f4806ec7a3",
   "metadata": {},
   "outputs": [
    {
     "data": {
      "text/html": [
       "<div>\n",
       "<style scoped>\n",
       "    .dataframe tbody tr th:only-of-type {\n",
       "        vertical-align: middle;\n",
       "    }\n",
       "\n",
       "    .dataframe tbody tr th {\n",
       "        vertical-align: top;\n",
       "    }\n",
       "\n",
       "    .dataframe thead th {\n",
       "        text-align: right;\n",
       "    }\n",
       "</style>\n",
       "<table border=\"1\" class=\"dataframe\">\n",
       "  <thead>\n",
       "    <tr style=\"text-align: right;\">\n",
       "      <th></th>\n",
       "      <th>Closing Price</th>\n",
       "      <th>Daily Price Change</th>\n",
       "      <th>Percentage Change</th>\n",
       "      <th>volume</th>\n",
       "      <th>Average 3 Month Volume</th>\n",
       "      <th>52 Week Closing Price Range</th>\n",
       "      <th>Graph Link</th>\n",
       "    </tr>\n",
       "    <tr>\n",
       "      <th>Ticker</th>\n",
       "      <th></th>\n",
       "      <th></th>\n",
       "      <th></th>\n",
       "      <th></th>\n",
       "      <th></th>\n",
       "      <th></th>\n",
       "      <th></th>\n",
       "    </tr>\n",
       "  </thead>\n",
       "  <tbody>\n",
       "    <tr>\n",
       "      <th>TSLA</th>\n",
       "      <td>199.95</td>\n",
       "      <td>-0.50</td>\n",
       "      <td>(-0.25%)</td>\n",
       "      <td>110,528,448</td>\n",
       "      <td>111,839,900</td>\n",
       "      <td>152.37 - 299.29</td>\n",
       "      <td>https://finance.yahoo.com/chart/TSLA/</td>\n",
       "    </tr>\n",
       "    <tr>\n",
       "      <th>AAPL</th>\n",
       "      <td>182.31</td>\n",
       "      <td>-1.55</td>\n",
       "      <td>(-0.84%)</td>\n",
       "      <td>48,627,624</td>\n",
       "      <td>53,397,922</td>\n",
       "      <td>143.90 - 199.62</td>\n",
       "      <td>https://finance.yahoo.com/chart/AAPL/</td>\n",
       "    </tr>\n",
       "    <tr>\n",
       "      <th>TWLO</th>\n",
       "      <td>58.59</td>\n",
       "      <td>-2.56</td>\n",
       "      <td>(-4.19%)</td>\n",
       "      <td>10,952,951</td>\n",
       "      <td>3,017,703</td>\n",
       "      <td>45.02 - 78.16</td>\n",
       "      <td>https://finance.yahoo.com/chart/TWLO/</td>\n",
       "    </tr>\n",
       "  </tbody>\n",
       "</table>\n",
       "</div>"
      ],
      "text/plain": [
       "       Closing Price Daily Price Change Percentage Change       volume  \\\n",
       "Ticker                                                                   \n",
       "TSLA          199.95              -0.50          (-0.25%)  110,528,448   \n",
       "AAPL          182.31              -1.55          (-0.84%)   48,627,624   \n",
       "TWLO           58.59              -2.56          (-4.19%)   10,952,951   \n",
       "\n",
       "       Average 3 Month Volume 52 Week Closing Price Range  \\\n",
       "Ticker                                                      \n",
       "TSLA              111,839,900             152.37 - 299.29   \n",
       "AAPL               53,397,922             143.90 - 199.62   \n",
       "TWLO                3,017,703               45.02 - 78.16   \n",
       "\n",
       "                                   Graph Link  \n",
       "Ticker                                         \n",
       "TSLA    https://finance.yahoo.com/chart/TSLA/  \n",
       "AAPL    https://finance.yahoo.com/chart/AAPL/  \n",
       "TWLO    https://finance.yahoo.com/chart/TWLO/  "
      ]
     },
     "execution_count": 62,
     "metadata": {},
     "output_type": "execute_result"
    }
   ],
   "source": [
    "df"
   ]
  },
  {
   "cell_type": "markdown",
   "id": "ec6ec01d-9855-4252-af6f-16d129684d72",
   "metadata": {},
   "source": [
    "**FUNCTION:** sd.historical_data(symbol, timespan)"
   ]
  },
  {
   "cell_type": "markdown",
   "id": "a857f0eb-4fac-4770-bf54-6402cd4fb628",
   "metadata": {},
   "source": [
    "**Symbol must be a string format of a stock ticker Ex: 'TSLA'**\n",
    "\n",
    "**timespan is one of 5 options: 'm1','m6','ytd','y1','y5','y10'**"
   ]
  },
  {
   "cell_type": "code",
   "execution_count": 63,
   "id": "5e8ca8de-a2f6-4c8c-8287-72ee25a2b87c",
   "metadata": {},
   "outputs": [],
   "source": [
    "data = sd.historical_data('AAPL', 'y10')"
   ]
  },
  {
   "cell_type": "code",
   "execution_count": 64,
   "id": "cc7f17f8-74d0-4eb5-bfad-09b25001c67a",
   "metadata": {},
   "outputs": [
    {
     "data": {
      "text/html": [
       "<div>\n",
       "<style scoped>\n",
       "    .dataframe tbody tr th:only-of-type {\n",
       "        vertical-align: middle;\n",
       "    }\n",
       "\n",
       "    .dataframe tbody tr th {\n",
       "        vertical-align: top;\n",
       "    }\n",
       "\n",
       "    .dataframe thead th {\n",
       "        text-align: right;\n",
       "    }\n",
       "</style>\n",
       "<table border=\"1\" class=\"dataframe\">\n",
       "  <thead>\n",
       "    <tr style=\"text-align: right;\">\n",
       "      <th></th>\n",
       "      <th>Date</th>\n",
       "      <th>Close/Last</th>\n",
       "      <th>Volume</th>\n",
       "      <th>Open</th>\n",
       "      <th>High</th>\n",
       "      <th>Low</th>\n",
       "    </tr>\n",
       "  </thead>\n",
       "  <tbody>\n",
       "    <tr>\n",
       "      <th>0</th>\n",
       "      <td>02/16/2024</td>\n",
       "      <td>$182.31</td>\n",
       "      <td>49752470</td>\n",
       "      <td>$183.42</td>\n",
       "      <td>$184.85</td>\n",
       "      <td>$181.665</td>\n",
       "    </tr>\n",
       "    <tr>\n",
       "      <th>1</th>\n",
       "      <td>02/15/2024</td>\n",
       "      <td>$183.86</td>\n",
       "      <td>65434500</td>\n",
       "      <td>$183.55</td>\n",
       "      <td>$184.49</td>\n",
       "      <td>$181.35</td>\n",
       "    </tr>\n",
       "    <tr>\n",
       "      <th>2</th>\n",
       "      <td>02/14/2024</td>\n",
       "      <td>$184.15</td>\n",
       "      <td>54630520</td>\n",
       "      <td>$185.32</td>\n",
       "      <td>$185.53</td>\n",
       "      <td>$182.44</td>\n",
       "    </tr>\n",
       "    <tr>\n",
       "      <th>3</th>\n",
       "      <td>02/13/2024</td>\n",
       "      <td>$185.04</td>\n",
       "      <td>56529530</td>\n",
       "      <td>$185.77</td>\n",
       "      <td>$186.21</td>\n",
       "      <td>$183.5128</td>\n",
       "    </tr>\n",
       "    <tr>\n",
       "      <th>4</th>\n",
       "      <td>02/12/2024</td>\n",
       "      <td>$187.15</td>\n",
       "      <td>41781930</td>\n",
       "      <td>$188.415</td>\n",
       "      <td>$188.67</td>\n",
       "      <td>$186.79</td>\n",
       "    </tr>\n",
       "    <tr>\n",
       "      <th>...</th>\n",
       "      <td>...</td>\n",
       "      <td>...</td>\n",
       "      <td>...</td>\n",
       "      <td>...</td>\n",
       "      <td>...</td>\n",
       "      <td>...</td>\n",
       "    </tr>\n",
       "    <tr>\n",
       "      <th>2513</th>\n",
       "      <td>02/24/2014</td>\n",
       "      <td>$18.8411</td>\n",
       "      <td>288835564</td>\n",
       "      <td>$18.6839</td>\n",
       "      <td>$18.9257</td>\n",
       "      <td>$18.6579</td>\n",
       "    </tr>\n",
       "    <tr>\n",
       "      <th>2514</th>\n",
       "      <td>02/21/2014</td>\n",
       "      <td>$18.7589</td>\n",
       "      <td>278751984</td>\n",
       "      <td>$19.0283</td>\n",
       "      <td>$19.0918</td>\n",
       "      <td>$18.7357</td>\n",
       "    </tr>\n",
       "    <tr>\n",
       "      <th>2515</th>\n",
       "      <td>02/20/2014</td>\n",
       "      <td>$18.9697</td>\n",
       "      <td>305829318</td>\n",
       "      <td>$19.0354</td>\n",
       "      <td>$19.1786</td>\n",
       "      <td>$18.8929</td>\n",
       "    </tr>\n",
       "    <tr>\n",
       "      <th>2516</th>\n",
       "      <td>02/19/2014</td>\n",
       "      <td>$19.1918</td>\n",
       "      <td>313663435</td>\n",
       "      <td>$19.4554</td>\n",
       "      <td>$19.5318</td>\n",
       "      <td>$19.0839</td>\n",
       "    </tr>\n",
       "    <tr>\n",
       "      <th>2517</th>\n",
       "      <td>02/18/2014</td>\n",
       "      <td>$19.4997</td>\n",
       "      <td>260192220</td>\n",
       "      <td>$19.50</td>\n",
       "      <td>$19.6854</td>\n",
       "      <td>$19.4861</td>\n",
       "    </tr>\n",
       "  </tbody>\n",
       "</table>\n",
       "<p>2518 rows × 6 columns</p>\n",
       "</div>"
      ],
      "text/plain": [
       "            Date Close/Last     Volume      Open      High        Low\n",
       "0     02/16/2024    $182.31   49752470   $183.42   $184.85   $181.665\n",
       "1     02/15/2024    $183.86   65434500   $183.55   $184.49    $181.35\n",
       "2     02/14/2024    $184.15   54630520   $185.32   $185.53    $182.44\n",
       "3     02/13/2024    $185.04   56529530   $185.77   $186.21  $183.5128\n",
       "4     02/12/2024    $187.15   41781930  $188.415   $188.67    $186.79\n",
       "...          ...        ...        ...       ...       ...        ...\n",
       "2513  02/24/2014   $18.8411  288835564  $18.6839  $18.9257   $18.6579\n",
       "2514  02/21/2014   $18.7589  278751984  $19.0283  $19.0918   $18.7357\n",
       "2515  02/20/2014   $18.9697  305829318  $19.0354  $19.1786   $18.8929\n",
       "2516  02/19/2014   $19.1918  313663435  $19.4554  $19.5318   $19.0839\n",
       "2517  02/18/2014   $19.4997  260192220    $19.50  $19.6854   $19.4861\n",
       "\n",
       "[2518 rows x 6 columns]"
      ]
     },
     "execution_count": 64,
     "metadata": {},
     "output_type": "execute_result"
    }
   ],
   "source": [
    "data"
   ]
  },
  {
   "cell_type": "code",
   "execution_count": null,
   "id": "96880170-c7c1-48f1-8b66-c79c7edff125",
   "metadata": {},
   "outputs": [],
   "source": []
  }
 ],
 "metadata": {
  "kernelspec": {
   "display_name": "Python 3 (ipykernel)",
   "language": "python",
   "name": "python3"
  },
  "language_info": {
   "codemirror_mode": {
    "name": "ipython",
    "version": 3
   },
   "file_extension": ".py",
   "mimetype": "text/x-python",
   "name": "python",
   "nbconvert_exporter": "python",
   "pygments_lexer": "ipython3",
   "version": "3.9.13"
  }
 },
 "nbformat": 4,
 "nbformat_minor": 5
}
