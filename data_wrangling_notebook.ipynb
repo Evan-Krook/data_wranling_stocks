{
 "cells": [
  {
   "cell_type": "code",
   "execution_count": 176,
   "id": "7857ebc7-f06b-4bb7-90cc-2189370ce1d5",
   "metadata": {},
   "outputs": [],
   "source": [
    "import stock_data_package.stock_data as sd\n",
    "import importlib"
   ]
  },
  {
   "cell_type": "code",
   "execution_count": 177,
   "id": "296dfb9a-886e-4f7a-9abc-3b03c88ccecf",
   "metadata": {},
   "outputs": [
    {
     "data": {
      "text/plain": [
       "<module 'stock_data_package.stock_data' from 'C:\\\\Users\\\\ekroo\\\\OneDrive - UWM\\\\Desktop\\\\data_wrangling_python_project\\\\stock_data_package\\\\stock_data.py'>"
      ]
     },
     "execution_count": 177,
     "metadata": {},
     "output_type": "execute_result"
    }
   ],
   "source": [
    "importlib.reload(sd)"
   ]
  },
  {
   "cell_type": "code",
   "execution_count": 178,
   "id": "4736cdea-ae41-48e0-99fc-b71bd26621d2",
   "metadata": {},
   "outputs": [],
   "source": [
    "df = sd.get_data(['TSLA','AAPL','TWLO'], 'stock_test.csv')"
   ]
  },
  {
   "cell_type": "code",
   "execution_count": 179,
   "id": "2aeb0757-3764-4c00-8c4f-74f4806ec7a3",
   "metadata": {},
   "outputs": [
    {
     "data": {
      "text/html": [
       "<div>\n",
       "<style scoped>\n",
       "    .dataframe tbody tr th:only-of-type {\n",
       "        vertical-align: middle;\n",
       "    }\n",
       "\n",
       "    .dataframe tbody tr th {\n",
       "        vertical-align: top;\n",
       "    }\n",
       "\n",
       "    .dataframe thead th {\n",
       "        text-align: right;\n",
       "    }\n",
       "</style>\n",
       "<table border=\"1\" class=\"dataframe\">\n",
       "  <thead>\n",
       "    <tr style=\"text-align: right;\">\n",
       "      <th></th>\n",
       "      <th>Closing Price</th>\n",
       "      <th>Daily Price Change</th>\n",
       "      <th>Percentage Change</th>\n",
       "      <th>volume</th>\n",
       "      <th>Average 3 Month Volume</th>\n",
       "      <th>52 Week Closing Price Range</th>\n",
       "      <th>Graph Link</th>\n",
       "    </tr>\n",
       "    <tr>\n",
       "      <th>Ticker</th>\n",
       "      <th></th>\n",
       "      <th></th>\n",
       "      <th></th>\n",
       "      <th></th>\n",
       "      <th></th>\n",
       "      <th></th>\n",
       "      <th></th>\n",
       "    </tr>\n",
       "  </thead>\n",
       "  <tbody>\n",
       "    <tr>\n",
       "      <th>TSLA</th>\n",
       "      <td>200.45</td>\n",
       "      <td>+11.74</td>\n",
       "      <td>(+6.22%)</td>\n",
       "      <td>119,932,134</td>\n",
       "      <td>112,212,688</td>\n",
       "      <td>152.37 - 299.29</td>\n",
       "      <td>https://finance.yahoo.com/chart/TSLA/</td>\n",
       "    </tr>\n",
       "    <tr>\n",
       "      <th>AAPL</th>\n",
       "      <td>183.86</td>\n",
       "      <td>-0.29</td>\n",
       "      <td>(-0.16%)</td>\n",
       "      <td>63,936,069</td>\n",
       "      <td>53,217,668</td>\n",
       "      <td>143.90 - 199.62</td>\n",
       "      <td>https://finance.yahoo.com/chart/AAPL/</td>\n",
       "    </tr>\n",
       "    <tr>\n",
       "      <th>TWLO</th>\n",
       "      <td>61.15</td>\n",
       "      <td>-11.12</td>\n",
       "      <td>(-15.39%)</td>\n",
       "      <td>19,017,865</td>\n",
       "      <td>2,610,050</td>\n",
       "      <td>45.02 - 78.16</td>\n",
       "      <td>https://finance.yahoo.com/chart/TWLO/</td>\n",
       "    </tr>\n",
       "  </tbody>\n",
       "</table>\n",
       "</div>"
      ],
      "text/plain": [
       "       Closing Price Daily Price Change Percentage Change       volume  \\\n",
       "Ticker                                                                   \n",
       "TSLA          200.45             +11.74          (+6.22%)  119,932,134   \n",
       "AAPL          183.86              -0.29          (-0.16%)   63,936,069   \n",
       "TWLO           61.15             -11.12         (-15.39%)   19,017,865   \n",
       "\n",
       "       Average 3 Month Volume 52 Week Closing Price Range  \\\n",
       "Ticker                                                      \n",
       "TSLA              112,212,688             152.37 - 299.29   \n",
       "AAPL               53,217,668             143.90 - 199.62   \n",
       "TWLO                2,610,050               45.02 - 78.16   \n",
       "\n",
       "                                   Graph Link  \n",
       "Ticker                                         \n",
       "TSLA    https://finance.yahoo.com/chart/TSLA/  \n",
       "AAPL    https://finance.yahoo.com/chart/AAPL/  \n",
       "TWLO    https://finance.yahoo.com/chart/TWLO/  "
      ]
     },
     "execution_count": 179,
     "metadata": {},
     "output_type": "execute_result"
    }
   ],
   "source": [
    "df"
   ]
  },
  {
   "cell_type": "code",
   "execution_count": null,
   "id": "5e8ca8de-a2f6-4c8c-8287-72ee25a2b87c",
   "metadata": {},
   "outputs": [],
   "source": []
  }
 ],
 "metadata": {
  "kernelspec": {
   "display_name": "Python 3 (ipykernel)",
   "language": "python",
   "name": "python3"
  },
  "language_info": {
   "codemirror_mode": {
    "name": "ipython",
    "version": 3
   },
   "file_extension": ".py",
   "mimetype": "text/x-python",
   "name": "python",
   "nbconvert_exporter": "python",
   "pygments_lexer": "ipython3",
   "version": "3.9.13"
  }
 },
 "nbformat": 4,
 "nbformat_minor": 5
}
